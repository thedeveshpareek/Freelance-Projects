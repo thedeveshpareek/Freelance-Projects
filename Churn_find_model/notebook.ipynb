{
 "cells": [
  {
   "cell_type": "code",
   "execution_count": 1,
   "metadata": {},
   "outputs": [],
   "source": [
    "import pandas as pd\n",
    "import numpy as np\n",
    "import matplotlib.pyplot as plt\n",
    "import seaborn as sns\n",
    "import warnings\n",
    "warnings.filterwarnings('ignore')\n",
    "%matplotlib inline"
   ]
  },
  {
   "cell_type": "code",
   "execution_count": 2,
   "metadata": {},
   "outputs": [],
   "source": [
    "df = pd.read_csv('telecom_churn_data.csv')"
   ]
  },
  {
   "cell_type": "code",
   "execution_count": 3,
   "metadata": {},
   "outputs": [
    {
     "data": {
      "text/html": [
       "<div>\n",
       "<style scoped>\n",
       "    .dataframe tbody tr th:only-of-type {\n",
       "        vertical-align: middle;\n",
       "    }\n",
       "\n",
       "    .dataframe tbody tr th {\n",
       "        vertical-align: top;\n",
       "    }\n",
       "\n",
       "    .dataframe thead th {\n",
       "        text-align: right;\n",
       "    }\n",
       "</style>\n",
       "<table border=\"1\" class=\"dataframe\">\n",
       "  <thead>\n",
       "    <tr style=\"text-align: right;\">\n",
       "      <th></th>\n",
       "      <th>mobile_number</th>\n",
       "      <th>circle_id</th>\n",
       "      <th>loc_og_t2o_mou</th>\n",
       "      <th>std_og_t2o_mou</th>\n",
       "      <th>loc_ic_t2o_mou</th>\n",
       "      <th>last_date_of_month_6</th>\n",
       "      <th>last_date_of_month_7</th>\n",
       "      <th>last_date_of_month_8</th>\n",
       "      <th>last_date_of_month_9</th>\n",
       "      <th>arpu_6</th>\n",
       "      <th>...</th>\n",
       "      <th>sachet_3g_9</th>\n",
       "      <th>fb_user_6</th>\n",
       "      <th>fb_user_7</th>\n",
       "      <th>fb_user_8</th>\n",
       "      <th>fb_user_9</th>\n",
       "      <th>aon</th>\n",
       "      <th>aug_vbc_3g</th>\n",
       "      <th>jul_vbc_3g</th>\n",
       "      <th>jun_vbc_3g</th>\n",
       "      <th>sep_vbc_3g</th>\n",
       "    </tr>\n",
       "  </thead>\n",
       "  <tbody>\n",
       "    <tr>\n",
       "      <th>0</th>\n",
       "      <td>7000842753</td>\n",
       "      <td>109</td>\n",
       "      <td>0.0</td>\n",
       "      <td>0.0</td>\n",
       "      <td>0.0</td>\n",
       "      <td>6/30/2014</td>\n",
       "      <td>7/31/2014</td>\n",
       "      <td>8/31/2014</td>\n",
       "      <td>9/30/2014</td>\n",
       "      <td>197.385</td>\n",
       "      <td>...</td>\n",
       "      <td>0</td>\n",
       "      <td>1.0</td>\n",
       "      <td>1.0</td>\n",
       "      <td>1.0</td>\n",
       "      <td>NaN</td>\n",
       "      <td>968</td>\n",
       "      <td>30.4</td>\n",
       "      <td>0.0</td>\n",
       "      <td>101.20</td>\n",
       "      <td>3.58</td>\n",
       "    </tr>\n",
       "    <tr>\n",
       "      <th>1</th>\n",
       "      <td>7001865778</td>\n",
       "      <td>109</td>\n",
       "      <td>0.0</td>\n",
       "      <td>0.0</td>\n",
       "      <td>0.0</td>\n",
       "      <td>6/30/2014</td>\n",
       "      <td>7/31/2014</td>\n",
       "      <td>8/31/2014</td>\n",
       "      <td>9/30/2014</td>\n",
       "      <td>34.047</td>\n",
       "      <td>...</td>\n",
       "      <td>0</td>\n",
       "      <td>NaN</td>\n",
       "      <td>1.0</td>\n",
       "      <td>1.0</td>\n",
       "      <td>NaN</td>\n",
       "      <td>1006</td>\n",
       "      <td>0.0</td>\n",
       "      <td>0.0</td>\n",
       "      <td>0.00</td>\n",
       "      <td>0.00</td>\n",
       "    </tr>\n",
       "    <tr>\n",
       "      <th>2</th>\n",
       "      <td>7001625959</td>\n",
       "      <td>109</td>\n",
       "      <td>0.0</td>\n",
       "      <td>0.0</td>\n",
       "      <td>0.0</td>\n",
       "      <td>6/30/2014</td>\n",
       "      <td>7/31/2014</td>\n",
       "      <td>8/31/2014</td>\n",
       "      <td>9/30/2014</td>\n",
       "      <td>167.690</td>\n",
       "      <td>...</td>\n",
       "      <td>0</td>\n",
       "      <td>NaN</td>\n",
       "      <td>NaN</td>\n",
       "      <td>NaN</td>\n",
       "      <td>1.0</td>\n",
       "      <td>1103</td>\n",
       "      <td>0.0</td>\n",
       "      <td>0.0</td>\n",
       "      <td>4.17</td>\n",
       "      <td>0.00</td>\n",
       "    </tr>\n",
       "    <tr>\n",
       "      <th>3</th>\n",
       "      <td>7001204172</td>\n",
       "      <td>109</td>\n",
       "      <td>0.0</td>\n",
       "      <td>0.0</td>\n",
       "      <td>0.0</td>\n",
       "      <td>6/30/2014</td>\n",
       "      <td>7/31/2014</td>\n",
       "      <td>8/31/2014</td>\n",
       "      <td>9/30/2014</td>\n",
       "      <td>221.338</td>\n",
       "      <td>...</td>\n",
       "      <td>0</td>\n",
       "      <td>NaN</td>\n",
       "      <td>NaN</td>\n",
       "      <td>NaN</td>\n",
       "      <td>NaN</td>\n",
       "      <td>2491</td>\n",
       "      <td>0.0</td>\n",
       "      <td>0.0</td>\n",
       "      <td>0.00</td>\n",
       "      <td>0.00</td>\n",
       "    </tr>\n",
       "    <tr>\n",
       "      <th>4</th>\n",
       "      <td>7000142493</td>\n",
       "      <td>109</td>\n",
       "      <td>0.0</td>\n",
       "      <td>0.0</td>\n",
       "      <td>0.0</td>\n",
       "      <td>6/30/2014</td>\n",
       "      <td>7/31/2014</td>\n",
       "      <td>8/31/2014</td>\n",
       "      <td>9/30/2014</td>\n",
       "      <td>261.636</td>\n",
       "      <td>...</td>\n",
       "      <td>0</td>\n",
       "      <td>0.0</td>\n",
       "      <td>NaN</td>\n",
       "      <td>NaN</td>\n",
       "      <td>NaN</td>\n",
       "      <td>1526</td>\n",
       "      <td>0.0</td>\n",
       "      <td>0.0</td>\n",
       "      <td>0.00</td>\n",
       "      <td>0.00</td>\n",
       "    </tr>\n",
       "  </tbody>\n",
       "</table>\n",
       "<p>5 rows × 226 columns</p>\n",
       "</div>"
      ],
      "text/plain": [
       "   mobile_number  circle_id  loc_og_t2o_mou  std_og_t2o_mou  loc_ic_t2o_mou  \\\n",
       "0     7000842753        109             0.0             0.0             0.0   \n",
       "1     7001865778        109             0.0             0.0             0.0   \n",
       "2     7001625959        109             0.0             0.0             0.0   \n",
       "3     7001204172        109             0.0             0.0             0.0   \n",
       "4     7000142493        109             0.0             0.0             0.0   \n",
       "\n",
       "  last_date_of_month_6 last_date_of_month_7 last_date_of_month_8  \\\n",
       "0            6/30/2014            7/31/2014            8/31/2014   \n",
       "1            6/30/2014            7/31/2014            8/31/2014   \n",
       "2            6/30/2014            7/31/2014            8/31/2014   \n",
       "3            6/30/2014            7/31/2014            8/31/2014   \n",
       "4            6/30/2014            7/31/2014            8/31/2014   \n",
       "\n",
       "  last_date_of_month_9   arpu_6  ...  sachet_3g_9  fb_user_6  fb_user_7  \\\n",
       "0            9/30/2014  197.385  ...            0        1.0        1.0   \n",
       "1            9/30/2014   34.047  ...            0        NaN        1.0   \n",
       "2            9/30/2014  167.690  ...            0        NaN        NaN   \n",
       "3            9/30/2014  221.338  ...            0        NaN        NaN   \n",
       "4            9/30/2014  261.636  ...            0        0.0        NaN   \n",
       "\n",
       "   fb_user_8  fb_user_9   aon  aug_vbc_3g  jul_vbc_3g  jun_vbc_3g  sep_vbc_3g  \n",
       "0        1.0        NaN   968        30.4         0.0      101.20        3.58  \n",
       "1        1.0        NaN  1006         0.0         0.0        0.00        0.00  \n",
       "2        NaN        1.0  1103         0.0         0.0        4.17        0.00  \n",
       "3        NaN        NaN  2491         0.0         0.0        0.00        0.00  \n",
       "4        NaN        NaN  1526         0.0         0.0        0.00        0.00  \n",
       "\n",
       "[5 rows x 226 columns]"
      ]
     },
     "execution_count": 3,
     "metadata": {},
     "output_type": "execute_result"
    }
   ],
   "source": [
    "df.head()"
   ]
  },
  {
   "cell_type": "markdown",
   "metadata": {},
   "source": [
    "## Data cleaning and preprocessing"
   ]
  },
  {
   "cell_type": "markdown",
   "metadata": {},
   "source": [
    "Null values"
   ]
  },
  {
   "cell_type": "code",
   "execution_count": 4,
   "metadata": {},
   "outputs": [
    {
     "data": {
      "text/plain": [
       "(99999, 226)"
      ]
     },
     "execution_count": 4,
     "metadata": {},
     "output_type": "execute_result"
    }
   ],
   "source": [
    "# check the shape of the dataset\n",
    "df.shape"
   ]
  },
  {
   "cell_type": "code",
   "execution_count": 5,
   "metadata": {},
   "outputs": [
    {
     "data": {
      "text/plain": [
       "mobile_number        0\n",
       "circle_id            0\n",
       "loc_og_t2o_mou    1018\n",
       "std_og_t2o_mou    1018\n",
       "loc_ic_t2o_mou    1018\n",
       "                  ... \n",
       "aon                  0\n",
       "aug_vbc_3g           0\n",
       "jul_vbc_3g           0\n",
       "jun_vbc_3g           0\n",
       "sep_vbc_3g           0\n",
       "Length: 226, dtype: int64"
      ]
     },
     "execution_count": 5,
     "metadata": {},
     "output_type": "execute_result"
    }
   ],
   "source": [
    "# null values\n",
    "df.isnull().sum()"
   ]
  },
  {
   "cell_type": "code",
   "execution_count": 8,
   "metadata": {},
   "outputs": [],
   "source": [
    "# drop null values\n",
    "df.dropna(inplace=True)"
   ]
  },
  {
   "cell_type": "code",
   "execution_count": 9,
   "metadata": {},
   "outputs": [
    {
     "data": {
      "text/plain": [
       "mobile_number     0\n",
       "circle_id         0\n",
       "loc_og_t2o_mou    0\n",
       "std_og_t2o_mou    0\n",
       "loc_ic_t2o_mou    0\n",
       "                 ..\n",
       "aon               0\n",
       "aug_vbc_3g        0\n",
       "jul_vbc_3g        0\n",
       "jun_vbc_3g        0\n",
       "sep_vbc_3g        0\n",
       "Length: 186, dtype: int64"
      ]
     },
     "execution_count": 9,
     "metadata": {},
     "output_type": "execute_result"
    }
   ],
   "source": [
    "df.isnull().sum()"
   ]
  },
  {
   "cell_type": "markdown",
   "metadata": {},
   "source": [
    "### Duplicate values"
   ]
  },
  {
   "cell_type": "code",
   "execution_count": 10,
   "metadata": {},
   "outputs": [
    {
     "data": {
      "text/plain": [
       "0"
      ]
     },
     "execution_count": 10,
     "metadata": {},
     "output_type": "execute_result"
    }
   ],
   "source": [
    "# check duplicates\n",
    "df.duplicated().sum()"
   ]
  },
  {
   "cell_type": "markdown",
   "metadata": {},
   "source": [
    "## Data Type Conversion"
   ]
  },
  {
   "cell_type": "code",
   "execution_count": 11,
   "metadata": {},
   "outputs": [
    {
     "data": {
      "text/plain": [
       "mobile_number       int64\n",
       "circle_id           int64\n",
       "loc_og_t2o_mou    float64\n",
       "std_og_t2o_mou    float64\n",
       "loc_ic_t2o_mou    float64\n",
       "                   ...   \n",
       "aon                 int64\n",
       "aug_vbc_3g        float64\n",
       "jul_vbc_3g        float64\n",
       "jun_vbc_3g        float64\n",
       "sep_vbc_3g        float64\n",
       "Length: 186, dtype: object"
      ]
     },
     "execution_count": 11,
     "metadata": {},
     "output_type": "execute_result"
    }
   ],
   "source": [
    "# type of data\n",
    "df.dtypes"
   ]
  },
  {
   "cell_type": "markdown",
   "metadata": {},
   "source": [
    "## Churn Calculation"
   ]
  },
  {
   "cell_type": "code",
   "execution_count": 18,
   "metadata": {},
   "outputs": [
    {
     "name": "stdout",
     "output_type": "stream",
     "text": [
      "total_rech_num_6\n",
      "total_rech_num_7\n",
      "total_rech_num_8\n",
      "total_rech_num_9\n",
      "total_rech_amt_6\n",
      "total_rech_amt_7\n",
      "total_rech_amt_8\n",
      "total_rech_amt_9\n",
      "max_rech_amt_6\n",
      "max_rech_amt_7\n",
      "max_rech_amt_8\n",
      "max_rech_amt_9\n",
      "date_of_last_rech_6\n",
      "date_of_last_rech_7\n",
      "date_of_last_rech_8\n",
      "date_of_last_rech_9\n"
     ]
    }
   ],
   "source": [
    "# total recharge amount\n",
    "for i in df.columns:\n",
    "    if 'rech' in i:\n",
    "        print(i)"
   ]
  },
  {
   "cell_type": "code",
   "execution_count": 19,
   "metadata": {},
   "outputs": [
    {
     "data": {
      "text/html": [
       "<div>\n",
       "<style scoped>\n",
       "    .dataframe tbody tr th:only-of-type {\n",
       "        vertical-align: middle;\n",
       "    }\n",
       "\n",
       "    .dataframe tbody tr th {\n",
       "        vertical-align: top;\n",
       "    }\n",
       "\n",
       "    .dataframe thead th {\n",
       "        text-align: right;\n",
       "    }\n",
       "</style>\n",
       "<table border=\"1\" class=\"dataframe\">\n",
       "  <thead>\n",
       "    <tr style=\"text-align: right;\">\n",
       "      <th></th>\n",
       "      <th>total_rech_amt_6</th>\n",
       "      <th>total_rech_amt_7</th>\n",
       "      <th>total_rech_amt_8</th>\n",
       "      <th>total_rech_amt_9</th>\n",
       "    </tr>\n",
       "  </thead>\n",
       "  <tbody>\n",
       "    <tr>\n",
       "      <th>count</th>\n",
       "      <td>84185.00000</td>\n",
       "      <td>84185.000000</td>\n",
       "      <td>84185.000000</td>\n",
       "      <td>84185.000000</td>\n",
       "    </tr>\n",
       "    <tr>\n",
       "      <th>mean</th>\n",
       "      <td>342.78887</td>\n",
       "      <td>346.879848</td>\n",
       "      <td>355.432726</td>\n",
       "      <td>337.679777</td>\n",
       "    </tr>\n",
       "    <tr>\n",
       "      <th>std</th>\n",
       "      <td>398.55893</td>\n",
       "      <td>413.131923</td>\n",
       "      <td>426.080618</td>\n",
       "      <td>413.961570</td>\n",
       "    </tr>\n",
       "    <tr>\n",
       "      <th>min</th>\n",
       "      <td>0.00000</td>\n",
       "      <td>0.000000</td>\n",
       "      <td>0.000000</td>\n",
       "      <td>0.000000</td>\n",
       "    </tr>\n",
       "    <tr>\n",
       "      <th>25%</th>\n",
       "      <td>110.00000</td>\n",
       "      <td>110.000000</td>\n",
       "      <td>130.000000</td>\n",
       "      <td>107.000000</td>\n",
       "    </tr>\n",
       "    <tr>\n",
       "      <th>50%</th>\n",
       "      <td>242.00000</td>\n",
       "      <td>244.000000</td>\n",
       "      <td>253.000000</td>\n",
       "      <td>240.000000</td>\n",
       "    </tr>\n",
       "    <tr>\n",
       "      <th>75%</th>\n",
       "      <td>452.00000</td>\n",
       "      <td>455.000000</td>\n",
       "      <td>466.000000</td>\n",
       "      <td>450.000000</td>\n",
       "    </tr>\n",
       "    <tr>\n",
       "      <th>max</th>\n",
       "      <td>35190.00000</td>\n",
       "      <td>40335.000000</td>\n",
       "      <td>45320.000000</td>\n",
       "      <td>37235.000000</td>\n",
       "    </tr>\n",
       "  </tbody>\n",
       "</table>\n",
       "</div>"
      ],
      "text/plain": [
       "       total_rech_amt_6  total_rech_amt_7  total_rech_amt_8  total_rech_amt_9\n",
       "count       84185.00000      84185.000000      84185.000000      84185.000000\n",
       "mean          342.78887        346.879848        355.432726        337.679777\n",
       "std           398.55893        413.131923        426.080618        413.961570\n",
       "min             0.00000          0.000000          0.000000          0.000000\n",
       "25%           110.00000        110.000000        130.000000        107.000000\n",
       "50%           242.00000        244.000000        253.000000        240.000000\n",
       "75%           452.00000        455.000000        466.000000        450.000000\n",
       "max         35190.00000      40335.000000      45320.000000      37235.000000"
      ]
     },
     "execution_count": 19,
     "metadata": {},
     "output_type": "execute_result"
    }
   ],
   "source": [
    "amount_cols = ['total_rech_amt_6', 'total_rech_amt_7', 'total_rech_amt_8', 'total_rech_amt_9']\n",
    "df[amount_cols].describe()"
   ]
  },
  {
   "cell_type": "code",
   "execution_count": 20,
   "metadata": {},
   "outputs": [
    {
     "name": "stdout",
     "output_type": "stream",
     "text": [
      "total_rech_num_6\n",
      "total_rech_num_7\n",
      "total_rech_num_8\n",
      "total_rech_num_9\n",
      "total_rech_amt_6\n",
      "total_rech_amt_7\n",
      "total_rech_amt_8\n",
      "total_rech_amt_9\n",
      "max_rech_amt_6\n",
      "max_rech_amt_7\n",
      "max_rech_amt_8\n",
      "max_rech_amt_9\n",
      "date_of_last_rech_6\n",
      "date_of_last_rech_7\n",
      "date_of_last_rech_8\n",
      "date_of_last_rech_9\n"
     ]
    }
   ],
   "source": [
    "# number of recharge\n",
    "for i in df.columns:\n",
    "    if 'rech' in i:\n",
    "        print(i)"
   ]
  },
  {
   "cell_type": "code",
   "execution_count": 22,
   "metadata": {},
   "outputs": [
    {
     "data": {
      "text/html": [
       "<div>\n",
       "<style scoped>\n",
       "    .dataframe tbody tr th:only-of-type {\n",
       "        vertical-align: middle;\n",
       "    }\n",
       "\n",
       "    .dataframe tbody tr th {\n",
       "        vertical-align: top;\n",
       "    }\n",
       "\n",
       "    .dataframe thead th {\n",
       "        text-align: right;\n",
       "    }\n",
       "</style>\n",
       "<table border=\"1\" class=\"dataframe\">\n",
       "  <thead>\n",
       "    <tr style=\"text-align: right;\">\n",
       "      <th></th>\n",
       "      <th>total_rech_num_6</th>\n",
       "      <th>total_rech_num_7</th>\n",
       "      <th>total_rech_num_8</th>\n",
       "      <th>total_rech_num_9</th>\n",
       "    </tr>\n",
       "  </thead>\n",
       "  <tbody>\n",
       "    <tr>\n",
       "      <th>count</th>\n",
       "      <td>84185.000000</td>\n",
       "      <td>84185.000000</td>\n",
       "      <td>84185.000000</td>\n",
       "      <td>84185.000000</td>\n",
       "    </tr>\n",
       "    <tr>\n",
       "      <th>mean</th>\n",
       "      <td>7.900754</td>\n",
       "      <td>8.198943</td>\n",
       "      <td>7.810560</td>\n",
       "      <td>7.582752</td>\n",
       "    </tr>\n",
       "    <tr>\n",
       "      <th>std</th>\n",
       "      <td>7.044602</td>\n",
       "      <td>7.137915</td>\n",
       "      <td>7.289034</td>\n",
       "      <td>7.185306</td>\n",
       "    </tr>\n",
       "    <tr>\n",
       "      <th>min</th>\n",
       "      <td>1.000000</td>\n",
       "      <td>1.000000</td>\n",
       "      <td>1.000000</td>\n",
       "      <td>1.000000</td>\n",
       "    </tr>\n",
       "    <tr>\n",
       "      <th>25%</th>\n",
       "      <td>4.000000</td>\n",
       "      <td>4.000000</td>\n",
       "      <td>3.000000</td>\n",
       "      <td>3.000000</td>\n",
       "    </tr>\n",
       "    <tr>\n",
       "      <th>50%</th>\n",
       "      <td>6.000000</td>\n",
       "      <td>6.000000</td>\n",
       "      <td>6.000000</td>\n",
       "      <td>5.000000</td>\n",
       "    </tr>\n",
       "    <tr>\n",
       "      <th>75%</th>\n",
       "      <td>10.000000</td>\n",
       "      <td>10.000000</td>\n",
       "      <td>10.000000</td>\n",
       "      <td>10.000000</td>\n",
       "    </tr>\n",
       "    <tr>\n",
       "      <th>max</th>\n",
       "      <td>307.000000</td>\n",
       "      <td>138.000000</td>\n",
       "      <td>138.000000</td>\n",
       "      <td>131.000000</td>\n",
       "    </tr>\n",
       "  </tbody>\n",
       "</table>\n",
       "</div>"
      ],
      "text/plain": [
       "       total_rech_num_6  total_rech_num_7  total_rech_num_8  total_rech_num_9\n",
       "count      84185.000000      84185.000000      84185.000000      84185.000000\n",
       "mean           7.900754          8.198943          7.810560          7.582752\n",
       "std            7.044602          7.137915          7.289034          7.185306\n",
       "min            1.000000          1.000000          1.000000          1.000000\n",
       "25%            4.000000          4.000000          3.000000          3.000000\n",
       "50%            6.000000          6.000000          6.000000          5.000000\n",
       "75%           10.000000         10.000000         10.000000         10.000000\n",
       "max          307.000000        138.000000        138.000000        131.000000"
      ]
     },
     "execution_count": 22,
     "metadata": {},
     "output_type": "execute_result"
    }
   ],
   "source": [
    "# total recharge number\n",
    "num_cols = ['total_rech_num_6', 'total_rech_num_7', 'total_rech_num_8', 'total_rech_num_9']\n",
    "df[num_cols].describe()"
   ]
  },
  {
   "cell_type": "code",
   "execution_count": 23,
   "metadata": {},
   "outputs": [
    {
     "data": {
      "text/plain": [
       "4      10002\n",
       "3       9366\n",
       "5       9295\n",
       "6       7924\n",
       "2       6844\n",
       "       ...  \n",
       "307        1\n",
       "97         1\n",
       "117        1\n",
       "89         1\n",
       "110        1\n",
       "Name: total_rech_num_6, Length: 97, dtype: int64"
      ]
     },
     "execution_count": 23,
     "metadata": {},
     "output_type": "execute_result"
    }
   ],
   "source": [
    "df['total_rech_num_6'].value_counts()"
   ]
  },
  {
   "cell_type": "code",
   "execution_count": 24,
   "metadata": {},
   "outputs": [
    {
     "data": {
      "image/png": "[encoded data removed]",
      "text/plain": [
       "<Figure size 1000x600 with 1 Axes>"
      ]
     },
     "metadata": {},
     "output_type": "display_data"
    },
    {
     "data": {
      "image/png": "[encoded data removed]",
      "text/plain": [
       "<Figure size 1000x600 with 1 Axes>"
      ]
     },
     "metadata": {},
     "output_type": "display_data"
    },
    {
     "data": {
      "image/png": "[encoded data removed]",
      "text/plain": [
       "<Figure size 1000x600 with 1 Axes>"
      ]
     },
     "metadata": {},
     "output_type": "display_data"
    },
    {
     "data": {
      "image/png": "[encoded data removed]",
      "text/plain": [
       "<Figure size 1000x600 with 1 Axes>"
      ]
     },
     "metadata": {},
     "output_type": "display_data"
    }
   ],
   "source": [
    "def plot_dist(df, col):\n",
    "    plt.figure(figsize=(10,6))\n",
    "    sns.distplot(df[col])\n",
    "    plt.show()\n",
    "\n",
    "for i in num_cols:\n",
    "    plot_dist(df, i)"
   ]
  },
  {
   "cell_type": "code",
   "execution_count": 26,
   "metadata": {},
   "outputs": [],
   "source": [
    "def churn(df, col):\n",
    "    if df[col] <= 3:\n",
    "        return 1\n",
    "    else:\n",
    "        return 0\n",
    "    \n",
    "df['churn'] = df.apply(churn, axis=1, col='total_rech_num_9')"
   ]
  },
  {
   "cell_type": "code",
   "execution_count": 27,
   "metadata": {},
   "outputs": [
    {
     "data": {
      "text/plain": [
       "0    58663\n",
       "1    25522\n",
       "Name: churn, dtype: int64"
      ]
     },
     "execution_count": 27,
     "metadata": {},
     "output_type": "execute_result"
    }
   ],
   "source": [
    "df['churn'].value_counts()"
   ]
  },
  {
   "cell_type": "code",
   "execution_count": 28,
   "metadata": {},
   "outputs": [
    {
     "data": {
      "text/plain": [
       "4      10002\n",
       "3       9366\n",
       "5       9295\n",
       "6       7924\n",
       "2       6844\n",
       "       ...  \n",
       "307        1\n",
       "97         1\n",
       "117        1\n",
       "89         1\n",
       "110        1\n",
       "Name: total_rech_num_6, Length: 97, dtype: int64"
      ]
     },
     "execution_count": 28,
     "metadata": {},
     "output_type": "execute_result"
    }
   ],
   "source": [
    "# tendency to recharge\n",
    "df['total_rech_num_6'].value_counts()"
   ]
  },
  {
   "cell_type": "code",
   "execution_count": 29,
   "metadata": {},
   "outputs": [],
   "source": [
    "def tendency(df, col):\n",
    "    if df[col] <= 3:\n",
    "        return 0\n",
    "    elif df[col] <= 7:\n",
    "        return 1\n",
    "    else:\n",
    "        return 2\n",
    "    \n",
    "df['tendency'] = df.apply(tendency, axis=1, col='total_rech_num_6')"
   ]
  },
  {
   "cell_type": "code",
   "execution_count": 30,
   "metadata": {},
   "outputs": [
    {
     "data": {
      "text/plain": [
       "1    33556\n",
       "2    31301\n",
       "0    19328\n",
       "Name: tendency, dtype: int64"
      ]
     },
     "execution_count": 30,
     "metadata": {},
     "output_type": "execute_result"
    }
   ],
   "source": [
    "df['tendency'].value_counts()"
   ]
  },
  {
   "cell_type": "code",
   "execution_count": 33,
   "metadata": {},
   "outputs": [
    {
     "data": {
      "image/png": "[encoded data removed]",
      "text/plain": [
       "<Figure size 1500x800 with 1 Axes>"
      ]
     },
     "metadata": {},
     "output_type": "display_data"
    }
   ],
   "source": [
    "# plot the churn rate for each state\n",
    "plt.figure(figsize=(15,8))\n",
    "sns.countplot(x='circle_id', hue='churn', data=df)\n",
    "plt.show()"
   ]
  },
  {
   "cell_type": "code",
   "execution_count": 34,
   "metadata": {},
   "outputs": [
    {
     "data": {
      "text/plain": [
       "circle_id  churn\n",
       "109        0        0.696834\n",
       "           1        0.303166\n",
       "Name: churn, dtype: float64"
      ]
     },
     "execution_count": 34,
     "metadata": {},
     "output_type": "execute_result"
    }
   ],
   "source": [
    "# churn rate for each state\n",
    "df.groupby('circle_id')['churn'].value_counts(normalize=True)"
   ]
  },
  {
   "cell_type": "code",
   "execution_count": 35,
   "metadata": {},
   "outputs": [
    {
     "data": {
      "image/png": "[encoded data removed]",
      "text/plain": [
       "<Figure size 1500x800 with 1 Axes>"
      ]
     },
     "metadata": {},
     "output_type": "display_data"
    }
   ],
   "source": [
    "# plot the churn rate for each state\n",
    "plt.figure(figsize=(15,8))\n",
    "sns.countplot(x='loc_og_t2o_mou', hue='churn', data=df)\n",
    "plt.show()"
   ]
  },
  {
   "cell_type": "code",
   "execution_count": 36,
   "metadata": {},
   "outputs": [
    {
     "data": {
      "image/png": "[encoded data removed]",
      "text/plain": [
       "<Figure size 1000x600 with 1 Axes>"
      ]
     },
     "metadata": {},
     "output_type": "display_data"
    }
   ],
   "source": [
    "# scatter plot\n",
    "plt.figure(figsize=(10,6))\n",
    "sns.scatterplot(x='total_rech_num_6', y='total_rech_num_7', data=df)\n",
    "plt.show()"
   ]
  },
  {
   "cell_type": "markdown",
   "metadata": {},
   "source": [
    "## MONTHLY 2G AND 3G USAGE"
   ]
  },
  {
   "cell_type": "code",
   "execution_count": 37,
   "metadata": {},
   "outputs": [
    {
     "data": {
      "text/html": [
       "<div>\n",
       "<style scoped>\n",
       "    .dataframe tbody tr th:only-of-type {\n",
       "        vertical-align: middle;\n",
       "    }\n",
       "\n",
       "    .dataframe tbody tr th {\n",
       "        vertical-align: top;\n",
       "    }\n",
       "\n",
       "    .dataframe thead th {\n",
       "        text-align: right;\n",
       "    }\n",
       "</style>\n",
       "<table border=\"1\" class=\"dataframe\">\n",
       "  <thead>\n",
       "    <tr style=\"text-align: right;\">\n",
       "      <th></th>\n",
       "      <th>mobile_number</th>\n",
       "      <th>circle_id</th>\n",
       "      <th>loc_og_t2o_mou</th>\n",
       "      <th>std_og_t2o_mou</th>\n",
       "      <th>loc_ic_t2o_mou</th>\n",
       "      <th>arpu_6</th>\n",
       "      <th>arpu_7</th>\n",
       "      <th>arpu_8</th>\n",
       "      <th>arpu_9</th>\n",
       "      <th>onnet_mou_6</th>\n",
       "      <th>...</th>\n",
       "      <th>sachet_3g_7</th>\n",
       "      <th>sachet_3g_8</th>\n",
       "      <th>sachet_3g_9</th>\n",
       "      <th>aon</th>\n",
       "      <th>aug_vbc_3g</th>\n",
       "      <th>jul_vbc_3g</th>\n",
       "      <th>jun_vbc_3g</th>\n",
       "      <th>sep_vbc_3g</th>\n",
       "      <th>churn</th>\n",
       "      <th>tendency</th>\n",
       "    </tr>\n",
       "  </thead>\n",
       "  <tbody>\n",
       "    <tr>\n",
       "      <th>mobile_number</th>\n",
       "      <td>1.000000</td>\n",
       "      <td>NaN</td>\n",
       "      <td>NaN</td>\n",
       "      <td>NaN</td>\n",
       "      <td>NaN</td>\n",
       "      <td>0.011887</td>\n",
       "      <td>0.005305</td>\n",
       "      <td>0.005205</td>\n",
       "      <td>0.009346</td>\n",
       "      <td>-0.001999</td>\n",
       "      <td>...</td>\n",
       "      <td>-0.011532</td>\n",
       "      <td>-0.011924</td>\n",
       "      <td>-0.012662</td>\n",
       "      <td>0.317398</td>\n",
       "      <td>-0.024135</td>\n",
       "      <td>-0.022673</td>\n",
       "      <td>-0.024932</td>\n",
       "      <td>-0.009244</td>\n",
       "      <td>0.022664</td>\n",
       "      <td>-0.033056</td>\n",
       "    </tr>\n",
       "    <tr>\n",
       "      <th>circle_id</th>\n",
       "      <td>NaN</td>\n",
       "      <td>NaN</td>\n",
       "      <td>NaN</td>\n",
       "      <td>NaN</td>\n",
       "      <td>NaN</td>\n",
       "      <td>NaN</td>\n",
       "      <td>NaN</td>\n",
       "      <td>NaN</td>\n",
       "      <td>NaN</td>\n",
       "      <td>NaN</td>\n",
       "      <td>...</td>\n",
       "      <td>NaN</td>\n",
       "      <td>NaN</td>\n",
       "      <td>NaN</td>\n",
       "      <td>NaN</td>\n",
       "      <td>NaN</td>\n",
       "      <td>NaN</td>\n",
       "      <td>NaN</td>\n",
       "      <td>NaN</td>\n",
       "      <td>NaN</td>\n",
       "      <td>NaN</td>\n",
       "    </tr>\n",
       "    <tr>\n",
       "      <th>loc_og_t2o_mou</th>\n",
       "      <td>NaN</td>\n",
       "      <td>NaN</td>\n",
       "      <td>NaN</td>\n",
       "      <td>NaN</td>\n",
       "      <td>NaN</td>\n",
       "      <td>NaN</td>\n",
       "      <td>NaN</td>\n",
       "      <td>NaN</td>\n",
       "      <td>NaN</td>\n",
       "      <td>NaN</td>\n",
       "      <td>...</td>\n",
       "      <td>NaN</td>\n",
       "      <td>NaN</td>\n",
       "      <td>NaN</td>\n",
       "      <td>NaN</td>\n",
       "      <td>NaN</td>\n",
       "      <td>NaN</td>\n",
       "      <td>NaN</td>\n",
       "      <td>NaN</td>\n",
       "      <td>NaN</td>\n",
       "      <td>NaN</td>\n",
       "    </tr>\n",
       "    <tr>\n",
       "      <th>std_og_t2o_mou</th>\n",
       "      <td>NaN</td>\n",
       "      <td>NaN</td>\n",
       "      <td>NaN</td>\n",
       "      <td>NaN</td>\n",
       "      <td>NaN</td>\n",
       "      <td>NaN</td>\n",
       "      <td>NaN</td>\n",
       "      <td>NaN</td>\n",
       "      <td>NaN</td>\n",
       "      <td>NaN</td>\n",
       "      <td>...</td>\n",
       "      <td>NaN</td>\n",
       "      <td>NaN</td>\n",
       "      <td>NaN</td>\n",
       "      <td>NaN</td>\n",
       "      <td>NaN</td>\n",
       "      <td>NaN</td>\n",
       "      <td>NaN</td>\n",
       "      <td>NaN</td>\n",
       "      <td>NaN</td>\n",
       "      <td>NaN</td>\n",
       "    </tr>\n",
       "    <tr>\n",
       "      <th>loc_ic_t2o_mou</th>\n",
       "      <td>NaN</td>\n",
       "      <td>NaN</td>\n",
       "      <td>NaN</td>\n",
       "      <td>NaN</td>\n",
       "      <td>NaN</td>\n",
       "      <td>NaN</td>\n",
       "      <td>NaN</td>\n",
       "      <td>NaN</td>\n",
       "      <td>NaN</td>\n",
       "      <td>NaN</td>\n",
       "      <td>...</td>\n",
       "      <td>NaN</td>\n",
       "      <td>NaN</td>\n",
       "      <td>NaN</td>\n",
       "      <td>NaN</td>\n",
       "      <td>NaN</td>\n",
       "      <td>NaN</td>\n",
       "      <td>NaN</td>\n",
       "      <td>NaN</td>\n",
       "      <td>NaN</td>\n",
       "      <td>NaN</td>\n",
       "    </tr>\n",
       "    <tr>\n",
       "      <th>...</th>\n",
       "      <td>...</td>\n",
       "      <td>...</td>\n",
       "      <td>...</td>\n",
       "      <td>...</td>\n",
       "      <td>...</td>\n",
       "      <td>...</td>\n",
       "      <td>...</td>\n",
       "      <td>...</td>\n",
       "      <td>...</td>\n",
       "      <td>...</td>\n",
       "      <td>...</td>\n",
       "      <td>...</td>\n",
       "      <td>...</td>\n",
       "      <td>...</td>\n",
       "      <td>...</td>\n",
       "      <td>...</td>\n",
       "      <td>...</td>\n",
       "      <td>...</td>\n",
       "      <td>...</td>\n",
       "      <td>...</td>\n",
       "      <td>...</td>\n",
       "    </tr>\n",
       "    <tr>\n",
       "      <th>jul_vbc_3g</th>\n",
       "      <td>-0.022673</td>\n",
       "      <td>NaN</td>\n",
       "      <td>NaN</td>\n",
       "      <td>NaN</td>\n",
       "      <td>NaN</td>\n",
       "      <td>0.198202</td>\n",
       "      <td>0.224695</td>\n",
       "      <td>0.187813</td>\n",
       "      <td>0.180195</td>\n",
       "      <td>-0.011215</td>\n",
       "      <td>...</td>\n",
       "      <td>0.099484</td>\n",
       "      <td>0.078280</td>\n",
       "      <td>0.075001</td>\n",
       "      <td>0.007015</td>\n",
       "      <td>0.709889</td>\n",
       "      <td>1.000000</td>\n",
       "      <td>0.697170</td>\n",
       "      <td>0.168039</td>\n",
       "      <td>-0.043682</td>\n",
       "      <td>0.062909</td>\n",
       "    </tr>\n",
       "    <tr>\n",
       "      <th>jun_vbc_3g</th>\n",
       "      <td>-0.024932</td>\n",
       "      <td>NaN</td>\n",
       "      <td>NaN</td>\n",
       "      <td>NaN</td>\n",
       "      <td>NaN</td>\n",
       "      <td>0.225861</td>\n",
       "      <td>0.183980</td>\n",
       "      <td>0.176064</td>\n",
       "      <td>0.173520</td>\n",
       "      <td>-0.007965</td>\n",
       "      <td>...</td>\n",
       "      <td>0.087824</td>\n",
       "      <td>0.074248</td>\n",
       "      <td>0.078636</td>\n",
       "      <td>0.004566</td>\n",
       "      <td>0.608162</td>\n",
       "      <td>0.697170</td>\n",
       "      <td>1.000000</td>\n",
       "      <td>0.158403</td>\n",
       "      <td>-0.042636</td>\n",
       "      <td>0.077314</td>\n",
       "    </tr>\n",
       "    <tr>\n",
       "      <th>sep_vbc_3g</th>\n",
       "      <td>-0.009244</td>\n",
       "      <td>NaN</td>\n",
       "      <td>NaN</td>\n",
       "      <td>NaN</td>\n",
       "      <td>NaN</td>\n",
       "      <td>0.090772</td>\n",
       "      <td>0.099514</td>\n",
       "      <td>0.127787</td>\n",
       "      <td>0.168378</td>\n",
       "      <td>-0.000270</td>\n",
       "      <td>...</td>\n",
       "      <td>0.061408</td>\n",
       "      <td>0.067926</td>\n",
       "      <td>0.094339</td>\n",
       "      <td>-0.000840</td>\n",
       "      <td>0.208833</td>\n",
       "      <td>0.168039</td>\n",
       "      <td>0.158403</td>\n",
       "      <td>1.000000</td>\n",
       "      <td>-0.052038</td>\n",
       "      <td>0.040864</td>\n",
       "    </tr>\n",
       "    <tr>\n",
       "      <th>churn</th>\n",
       "      <td>0.022664</td>\n",
       "      <td>NaN</td>\n",
       "      <td>NaN</td>\n",
       "      <td>NaN</td>\n",
       "      <td>NaN</td>\n",
       "      <td>-0.188823</td>\n",
       "      <td>-0.199760</td>\n",
       "      <td>-0.232213</td>\n",
       "      <td>-0.301982</td>\n",
       "      <td>-0.126705</td>\n",
       "      <td>...</td>\n",
       "      <td>-0.057369</td>\n",
       "      <td>-0.060643</td>\n",
       "      <td>-0.077988</td>\n",
       "      <td>0.096685</td>\n",
       "      <td>-0.056305</td>\n",
       "      <td>-0.043682</td>\n",
       "      <td>-0.042636</td>\n",
       "      <td>-0.052038</td>\n",
       "      <td>1.000000</td>\n",
       "      <td>-0.361713</td>\n",
       "    </tr>\n",
       "    <tr>\n",
       "      <th>tendency</th>\n",
       "      <td>-0.033056</td>\n",
       "      <td>NaN</td>\n",
       "      <td>NaN</td>\n",
       "      <td>NaN</td>\n",
       "      <td>NaN</td>\n",
       "      <td>0.436769</td>\n",
       "      <td>0.314023</td>\n",
       "      <td>0.251208</td>\n",
       "      <td>0.234490</td>\n",
       "      <td>0.281313</td>\n",
       "      <td>...</td>\n",
       "      <td>0.072461</td>\n",
       "      <td>0.065271</td>\n",
       "      <td>0.065371</td>\n",
       "      <td>-0.105256</td>\n",
       "      <td>0.055291</td>\n",
       "      <td>0.062909</td>\n",
       "      <td>0.077314</td>\n",
       "      <td>0.040864</td>\n",
       "      <td>-0.361713</td>\n",
       "      <td>1.000000</td>\n",
       "    </tr>\n",
       "  </tbody>\n",
       "</table>\n",
       "<p>180 rows × 180 columns</p>\n",
       "</div>"
      ],
      "text/plain": [
       "                mobile_number  circle_id  loc_og_t2o_mou  std_og_t2o_mou  \\\n",
       "mobile_number        1.000000        NaN             NaN             NaN   \n",
       "circle_id                 NaN        NaN             NaN             NaN   \n",
       "loc_og_t2o_mou            NaN        NaN             NaN             NaN   \n",
       "std_og_t2o_mou            NaN        NaN             NaN             NaN   \n",
       "loc_ic_t2o_mou            NaN        NaN             NaN             NaN   \n",
       "...                       ...        ...             ...             ...   \n",
       "jul_vbc_3g          -0.022673        NaN             NaN             NaN   \n",
       "jun_vbc_3g          -0.024932        NaN             NaN             NaN   \n",
       "sep_vbc_3g          -0.009244        NaN             NaN             NaN   \n",
       "churn                0.022664        NaN             NaN             NaN   \n",
       "tendency            -0.033056        NaN             NaN             NaN   \n",
       "\n",
       "                loc_ic_t2o_mou    arpu_6    arpu_7    arpu_8    arpu_9  \\\n",
       "mobile_number              NaN  0.011887  0.005305  0.005205  0.009346   \n",
       "circle_id                  NaN       NaN       NaN       NaN       NaN   \n",
       "loc_og_t2o_mou             NaN       NaN       NaN       NaN       NaN   \n",
       "std_og_t2o_mou             NaN       NaN       NaN       NaN       NaN   \n",
       "loc_ic_t2o_mou             NaN       NaN       NaN       NaN       NaN   \n",
       "...                        ...       ...       ...       ...       ...   \n",
       "jul_vbc_3g                 NaN  0.198202  0.224695  0.187813  0.180195   \n",
       "jun_vbc_3g                 NaN  0.225861  0.183980  0.176064  0.173520   \n",
       "sep_vbc_3g                 NaN  0.090772  0.099514  0.127787  0.168378   \n",
       "churn                      NaN -0.188823 -0.199760 -0.232213 -0.301982   \n",
       "tendency                   NaN  0.436769  0.314023  0.251208  0.234490   \n",
       "\n",
       "                onnet_mou_6  ...  sachet_3g_7  sachet_3g_8  sachet_3g_9  \\\n",
       "mobile_number     -0.001999  ...    -0.011532    -0.011924    -0.012662   \n",
       "circle_id               NaN  ...          NaN          NaN          NaN   \n",
       "loc_og_t2o_mou          NaN  ...          NaN          NaN          NaN   \n",
       "std_og_t2o_mou          NaN  ...          NaN          NaN          NaN   \n",
       "loc_ic_t2o_mou          NaN  ...          NaN          NaN          NaN   \n",
       "...                     ...  ...          ...          ...          ...   \n",
       "jul_vbc_3g        -0.011215  ...     0.099484     0.078280     0.075001   \n",
       "jun_vbc_3g        -0.007965  ...     0.087824     0.074248     0.078636   \n",
       "sep_vbc_3g        -0.000270  ...     0.061408     0.067926     0.094339   \n",
       "churn             -0.126705  ...    -0.057369    -0.060643    -0.077988   \n",
       "tendency           0.281313  ...     0.072461     0.065271     0.065371   \n",
       "\n",
       "                     aon  aug_vbc_3g  jul_vbc_3g  jun_vbc_3g  sep_vbc_3g  \\\n",
       "mobile_number   0.317398   -0.024135   -0.022673   -0.024932   -0.009244   \n",
       "circle_id            NaN         NaN         NaN         NaN         NaN   \n",
       "loc_og_t2o_mou       NaN         NaN         NaN         NaN         NaN   \n",
       "std_og_t2o_mou       NaN         NaN         NaN         NaN         NaN   \n",
       "loc_ic_t2o_mou       NaN         NaN         NaN         NaN         NaN   \n",
       "...                  ...         ...         ...         ...         ...   \n",
       "jul_vbc_3g      0.007015    0.709889    1.000000    0.697170    0.168039   \n",
       "jun_vbc_3g      0.004566    0.608162    0.697170    1.000000    0.158403   \n",
       "sep_vbc_3g     -0.000840    0.208833    0.168039    0.158403    1.000000   \n",
       "churn           0.096685   -0.056305   -0.043682   -0.042636   -0.052038   \n",
       "tendency       -0.105256    0.055291    0.062909    0.077314    0.040864   \n",
       "\n",
       "                   churn  tendency  \n",
       "mobile_number   0.022664 -0.033056  \n",
       "circle_id            NaN       NaN  \n",
       "loc_og_t2o_mou       NaN       NaN  \n",
       "std_og_t2o_mou       NaN       NaN  \n",
       "loc_ic_t2o_mou       NaN       NaN  \n",
       "...                  ...       ...  \n",
       "jul_vbc_3g     -0.043682  0.062909  \n",
       "jun_vbc_3g     -0.042636  0.077314  \n",
       "sep_vbc_3g     -0.052038  0.040864  \n",
       "churn           1.000000 -0.361713  \n",
       "tendency       -0.361713  1.000000  \n",
       "\n",
       "[180 rows x 180 columns]"
      ]
     },
     "execution_count": 37,
     "metadata": {},
     "output_type": "execute_result"
    }
   ],
   "source": [
    "# correlation\n",
    "df.corr()"
   ]
  },
  {
   "cell_type": "markdown",
   "metadata": {},
   "source": [
    "1. The ‘good’ phase: In this phase, the customer is happy with the service and behaves as\n",
    "usual."
   ]
  },
  {
   "cell_type": "code",
   "execution_count": 39,
   "metadata": {},
   "outputs": [
    {
     "name": "stdout",
     "output_type": "stream",
     "text": [
      "Percentage of high value customers:  84.72\n"
     ]
    }
   ],
   "source": [
    "# 1. The ‘good’ phase: In this phase, the customer is happy with the service and behaves as usual.\n",
    "high_value_cust = df[df['total_rech_amt_6'] >= 70]\n",
    "print('Percentage of high value customers: ', round(high_value_cust.shape[0]/df.shape[0]*100, 2))"
   ]
  },
  {
   "cell_type": "markdown",
   "metadata": {},
   "source": [
    "2. The ‘action’ phase: The customer experience starts to sore in this phase, for e.g. he/she\n",
    "gets a compelling offer from a competitor, faces unjust charges, becomes unhappy\n",
    "with service quality etc. In this phase, the customer usually shows different behaviour\n",
    "than the ‘good’ months. Also, it is crucial to identify high-churn-risk customers in this\n",
    "phase, since some corrective actions can be taken at this point (such as matching the\n",
    "competitor’s offer/improving the service quality etc.)"
   ]
  },
  {
   "cell_type": "code",
   "execution_count": 40,
   "metadata": {},
   "outputs": [
    {
     "name": "stdout",
     "output_type": "stream",
     "text": [
      "Percentage of customers in action phase:  14.72\n"
     ]
    }
   ],
   "source": [
    "Action_phase = high_value_cust[(high_value_cust['total_rech_amt_7'] < high_value_cust['total_rech_amt_6']) & (high_value_cust['total_rech_amt_8'] < high_value_cust['total_rech_amt_7'])]\n",
    "print('Percentage of customers in action phase: ', round(Action_phase.shape[0]/df.shape[0]*100, 2))"
   ]
  },
  {
   "cell_type": "markdown",
   "metadata": {},
   "source": [
    "3. The ‘churn’ phase: In this phase, the customer is said to have churned. You define\n",
    "churn based on this phase. Also, it is important to note that at the time of prediction\n",
    "(i.e. the action months), this data is not available to you for prediction. Thus, after\n",
    "tagging churn as 1/0 based on this phase, you discard all data corresponding to this\n",
    "phase."
   ]
  },
  {
   "cell_type": "code",
   "execution_count": 42,
   "metadata": {},
   "outputs": [
    {
     "name": "stdout",
     "output_type": "stream",
     "text": [
      "Percentage of customers in churn phase:  27.65\n"
     ]
    }
   ],
   "source": [
    "chunk_phase = high_value_cust[(high_value_cust['total_rech_amt_7'] < high_value_cust['total_rech_amt_6']) & (high_value_cust['total_rech_amt_8'] > high_value_cust['total_rech_amt_7'])]\n",
    "print('Percentage of customers in churn phase: ', round(chunk_phase.shape[0]/df.shape[0]*100, 2))"
   ]
  },
  {
   "cell_type": "markdown",
   "metadata": {},
   "source": [
    "#### new dataframe with only high value customers"
   ]
  },
  {
   "cell_type": "code",
   "execution_count": 43,
   "metadata": {},
   "outputs": [],
   "source": [
    "new_phase = high_value_cust[(high_value_cust['total_rech_amt_7'] > high_value_cust['total_rech_amt_6']) & (high_value_cust['total_rech_amt_8'] > high_value_cust['total_rech_amt_7'])]"
   ]
  },
  {
   "cell_type": "code",
   "execution_count": 44,
   "metadata": {},
   "outputs": [
    {
     "data": {
      "text/html": [
       "<div>\n",
       "<style scoped>\n",
       "    .dataframe tbody tr th:only-of-type {\n",
       "        vertical-align: middle;\n",
       "    }\n",
       "\n",
       "    .dataframe tbody tr th {\n",
       "        vertical-align: top;\n",
       "    }\n",
       "\n",
       "    .dataframe thead th {\n",
       "        text-align: right;\n",
       "    }\n",
       "</style>\n",
       "<table border=\"1\" class=\"dataframe\">\n",
       "  <thead>\n",
       "    <tr style=\"text-align: right;\">\n",
       "      <th></th>\n",
       "      <th>mobile_number</th>\n",
       "      <th>circle_id</th>\n",
       "      <th>loc_og_t2o_mou</th>\n",
       "      <th>std_og_t2o_mou</th>\n",
       "      <th>loc_ic_t2o_mou</th>\n",
       "      <th>last_date_of_month_6</th>\n",
       "      <th>last_date_of_month_7</th>\n",
       "      <th>last_date_of_month_8</th>\n",
       "      <th>last_date_of_month_9</th>\n",
       "      <th>arpu_6</th>\n",
       "      <th>...</th>\n",
       "      <th>sachet_3g_7</th>\n",
       "      <th>sachet_3g_8</th>\n",
       "      <th>sachet_3g_9</th>\n",
       "      <th>aon</th>\n",
       "      <th>aug_vbc_3g</th>\n",
       "      <th>jul_vbc_3g</th>\n",
       "      <th>jun_vbc_3g</th>\n",
       "      <th>sep_vbc_3g</th>\n",
       "      <th>churn</th>\n",
       "      <th>tendency</th>\n",
       "    </tr>\n",
       "  </thead>\n",
       "  <tbody>\n",
       "    <tr>\n",
       "      <th>3</th>\n",
       "      <td>7001204172</td>\n",
       "      <td>109</td>\n",
       "      <td>0.0</td>\n",
       "      <td>0.0</td>\n",
       "      <td>0.0</td>\n",
       "      <td>6/30/2014</td>\n",
       "      <td>7/31/2014</td>\n",
       "      <td>8/31/2014</td>\n",
       "      <td>9/30/2014</td>\n",
       "      <td>221.338</td>\n",
       "      <td>...</td>\n",
       "      <td>0</td>\n",
       "      <td>0</td>\n",
       "      <td>0</td>\n",
       "      <td>2491</td>\n",
       "      <td>0.00</td>\n",
       "      <td>0.00</td>\n",
       "      <td>0.0</td>\n",
       "      <td>0.0</td>\n",
       "      <td>0</td>\n",
       "      <td>2</td>\n",
       "    </tr>\n",
       "    <tr>\n",
       "      <th>19</th>\n",
       "      <td>7001754084</td>\n",
       "      <td>109</td>\n",
       "      <td>0.0</td>\n",
       "      <td>0.0</td>\n",
       "      <td>0.0</td>\n",
       "      <td>6/30/2014</td>\n",
       "      <td>7/31/2014</td>\n",
       "      <td>8/31/2014</td>\n",
       "      <td>9/30/2014</td>\n",
       "      <td>163.430</td>\n",
       "      <td>...</td>\n",
       "      <td>0</td>\n",
       "      <td>0</td>\n",
       "      <td>0</td>\n",
       "      <td>1104</td>\n",
       "      <td>454.53</td>\n",
       "      <td>466.06</td>\n",
       "      <td>0.0</td>\n",
       "      <td>0.0</td>\n",
       "      <td>1</td>\n",
       "      <td>0</td>\n",
       "    </tr>\n",
       "    <tr>\n",
       "      <th>21</th>\n",
       "      <td>7002124215</td>\n",
       "      <td>109</td>\n",
       "      <td>0.0</td>\n",
       "      <td>0.0</td>\n",
       "      <td>0.0</td>\n",
       "      <td>6/30/2014</td>\n",
       "      <td>7/31/2014</td>\n",
       "      <td>8/31/2014</td>\n",
       "      <td>9/30/2014</td>\n",
       "      <td>514.453</td>\n",
       "      <td>...</td>\n",
       "      <td>0</td>\n",
       "      <td>0</td>\n",
       "      <td>0</td>\n",
       "      <td>720</td>\n",
       "      <td>0.00</td>\n",
       "      <td>0.00</td>\n",
       "      <td>0.0</td>\n",
       "      <td>0.0</td>\n",
       "      <td>0</td>\n",
       "      <td>2</td>\n",
       "    </tr>\n",
       "    <tr>\n",
       "      <th>28</th>\n",
       "      <td>7001604038</td>\n",
       "      <td>109</td>\n",
       "      <td>0.0</td>\n",
       "      <td>0.0</td>\n",
       "      <td>0.0</td>\n",
       "      <td>6/30/2014</td>\n",
       "      <td>7/31/2014</td>\n",
       "      <td>8/31/2014</td>\n",
       "      <td>9/30/2014</td>\n",
       "      <td>117.392</td>\n",
       "      <td>...</td>\n",
       "      <td>0</td>\n",
       "      <td>1</td>\n",
       "      <td>0</td>\n",
       "      <td>502</td>\n",
       "      <td>0.36</td>\n",
       "      <td>0.00</td>\n",
       "      <td>0.0</td>\n",
       "      <td>0.0</td>\n",
       "      <td>0</td>\n",
       "      <td>0</td>\n",
       "    </tr>\n",
       "    <tr>\n",
       "      <th>36</th>\n",
       "      <td>7001146803</td>\n",
       "      <td>109</td>\n",
       "      <td>0.0</td>\n",
       "      <td>0.0</td>\n",
       "      <td>0.0</td>\n",
       "      <td>6/30/2014</td>\n",
       "      <td>7/31/2014</td>\n",
       "      <td>8/31/2014</td>\n",
       "      <td>9/30/2014</td>\n",
       "      <td>84.926</td>\n",
       "      <td>...</td>\n",
       "      <td>0</td>\n",
       "      <td>0</td>\n",
       "      <td>0</td>\n",
       "      <td>479</td>\n",
       "      <td>0.00</td>\n",
       "      <td>0.00</td>\n",
       "      <td>0.0</td>\n",
       "      <td>0.0</td>\n",
       "      <td>0</td>\n",
       "      <td>0</td>\n",
       "    </tr>\n",
       "  </tbody>\n",
       "</table>\n",
       "<p>5 rows × 188 columns</p>\n",
       "</div>"
      ],
      "text/plain": [
       "    mobile_number  circle_id  loc_og_t2o_mou  std_og_t2o_mou  loc_ic_t2o_mou  \\\n",
       "3      7001204172        109             0.0             0.0             0.0   \n",
       "19     7001754084        109             0.0             0.0             0.0   \n",
       "21     7002124215        109             0.0             0.0             0.0   \n",
       "28     7001604038        109             0.0             0.0             0.0   \n",
       "36     7001146803        109             0.0             0.0             0.0   \n",
       "\n",
       "   last_date_of_month_6 last_date_of_month_7 last_date_of_month_8  \\\n",
       "3             6/30/2014            7/31/2014            8/31/2014   \n",
       "19            6/30/2014            7/31/2014            8/31/2014   \n",
       "21            6/30/2014            7/31/2014            8/31/2014   \n",
       "28            6/30/2014            7/31/2014            8/31/2014   \n",
       "36            6/30/2014            7/31/2014            8/31/2014   \n",
       "\n",
       "   last_date_of_month_9   arpu_6  ...  sachet_3g_7  sachet_3g_8  sachet_3g_9  \\\n",
       "3             9/30/2014  221.338  ...            0            0            0   \n",
       "19            9/30/2014  163.430  ...            0            0            0   \n",
       "21            9/30/2014  514.453  ...            0            0            0   \n",
       "28            9/30/2014  117.392  ...            0            1            0   \n",
       "36            9/30/2014   84.926  ...            0            0            0   \n",
       "\n",
       "     aon  aug_vbc_3g  jul_vbc_3g  jun_vbc_3g  sep_vbc_3g  churn  tendency  \n",
       "3   2491        0.00        0.00         0.0         0.0      0         2  \n",
       "19  1104      454.53      466.06         0.0         0.0      1         0  \n",
       "21   720        0.00        0.00         0.0         0.0      0         2  \n",
       "28   502        0.36        0.00         0.0         0.0      0         0  \n",
       "36   479        0.00        0.00         0.0         0.0      0         0  \n",
       "\n",
       "[5 rows x 188 columns]"
      ]
     },
     "execution_count": 44,
     "metadata": {},
     "output_type": "execute_result"
    }
   ],
   "source": [
    "new_phase.head()"
   ]
  },
  {
   "cell_type": "markdown",
   "metadata": {},
   "source": [
    "### Modelling"
   ]
  },
  {
   "cell_type": "code",
   "execution_count": 45,
   "metadata": {},
   "outputs": [],
   "source": [
    "# important columns\n",
    "Month_6 = ['total_ic_mou_6', 'total_og_mou_6', 'vol_2g_mb_6', 'vol_3g_mb_6']\n",
    "Month_7 = ['total_ic_mou_7', 'total_og_mou_7', 'vol_2g_mb_7', 'vol_3g_mb_7']\n",
    "Month_8 = ['total_ic_mou_8', 'total_og_mou_8', 'vol_2g_mb_8', 'vol_3g_mb_8']\n",
    "Month_9 = ['total_ic_mou_9', 'total_og_mou_9', 'vol_2g_mb_9', 'vol_3g_mb_9']"
   ]
  },
  {
   "cell_type": "code",
   "execution_count": 46,
   "metadata": {},
   "outputs": [],
   "source": [
    "# dfs for each month\n",
    "df_6 = new_phase[Month_6]\n",
    "df_7 = new_phase[Month_7]\n",
    "df_8 = new_phase[Month_8]\n",
    "df_9 = new_phase[Month_9]"
   ]
  },
  {
   "cell_type": "code",
   "execution_count": 47,
   "metadata": {},
   "outputs": [
    {
     "data": {
      "text/html": [
       "<div>\n",
       "<style scoped>\n",
       "    .dataframe tbody tr th:only-of-type {\n",
       "        vertical-align: middle;\n",
       "    }\n",
       "\n",
       "    .dataframe tbody tr th {\n",
       "        vertical-align: top;\n",
       "    }\n",
       "\n",
       "    .dataframe thead th {\n",
       "        text-align: right;\n",
       "    }\n",
       "</style>\n",
       "<table border=\"1\" class=\"dataframe\">\n",
       "  <thead>\n",
       "    <tr style=\"text-align: right;\">\n",
       "      <th></th>\n",
       "      <th>total_ic_mou_6</th>\n",
       "      <th>total_og_mou_6</th>\n",
       "      <th>vol_2g_mb_6</th>\n",
       "      <th>vol_3g_mb_6</th>\n",
       "    </tr>\n",
       "  </thead>\n",
       "  <tbody>\n",
       "    <tr>\n",
       "      <th>3</th>\n",
       "      <td>280.08</td>\n",
       "      <td>223.23</td>\n",
       "      <td>0.00</td>\n",
       "      <td>0.0</td>\n",
       "    </tr>\n",
       "    <tr>\n",
       "      <th>19</th>\n",
       "      <td>33.19</td>\n",
       "      <td>4.56</td>\n",
       "      <td>514.81</td>\n",
       "      <td>0.0</td>\n",
       "    </tr>\n",
       "    <tr>\n",
       "      <th>21</th>\n",
       "      <td>207.09</td>\n",
       "      <td>860.34</td>\n",
       "      <td>0.00</td>\n",
       "      <td>0.0</td>\n",
       "    </tr>\n",
       "    <tr>\n",
       "      <th>28</th>\n",
       "      <td>329.18</td>\n",
       "      <td>69.76</td>\n",
       "      <td>0.00</td>\n",
       "      <td>0.0</td>\n",
       "    </tr>\n",
       "    <tr>\n",
       "      <th>36</th>\n",
       "      <td>161.39</td>\n",
       "      <td>74.13</td>\n",
       "      <td>0.00</td>\n",
       "      <td>0.0</td>\n",
       "    </tr>\n",
       "  </tbody>\n",
       "</table>\n",
       "</div>"
      ],
      "text/plain": [
       "    total_ic_mou_6  total_og_mou_6  vol_2g_mb_6  vol_3g_mb_6\n",
       "3           280.08          223.23         0.00          0.0\n",
       "19           33.19            4.56       514.81          0.0\n",
       "21          207.09          860.34         0.00          0.0\n",
       "28          329.18           69.76         0.00          0.0\n",
       "36          161.39           74.13         0.00          0.0"
      ]
     },
     "execution_count": 47,
     "metadata": {},
     "output_type": "execute_result"
    }
   ],
   "source": [
    "df_6.head()"
   ]
  },
  {
   "cell_type": "code",
   "execution_count": 48,
   "metadata": {},
   "outputs": [
    {
     "data": {
      "text/html": [
       "<div>\n",
       "<style scoped>\n",
       "    .dataframe tbody tr th:only-of-type {\n",
       "        vertical-align: middle;\n",
       "    }\n",
       "\n",
       "    .dataframe tbody tr th {\n",
       "        vertical-align: top;\n",
       "    }\n",
       "\n",
       "    .dataframe thead th {\n",
       "        text-align: right;\n",
       "    }\n",
       "</style>\n",
       "<table border=\"1\" class=\"dataframe\">\n",
       "  <thead>\n",
       "    <tr style=\"text-align: right;\">\n",
       "      <th></th>\n",
       "      <th>total_ic_mou_7</th>\n",
       "      <th>total_og_mou_7</th>\n",
       "      <th>vol_2g_mb_7</th>\n",
       "      <th>vol_3g_mb_7</th>\n",
       "    </tr>\n",
       "  </thead>\n",
       "  <tbody>\n",
       "    <tr>\n",
       "      <th>3</th>\n",
       "      <td>216.61</td>\n",
       "      <td>135.31</td>\n",
       "      <td>0.00</td>\n",
       "      <td>0.0</td>\n",
       "    </tr>\n",
       "    <tr>\n",
       "      <th>19</th>\n",
       "      <td>114.39</td>\n",
       "      <td>48.66</td>\n",
       "      <td>445.26</td>\n",
       "      <td>212.1</td>\n",
       "    </tr>\n",
       "    <tr>\n",
       "      <th>21</th>\n",
       "      <td>131.89</td>\n",
       "      <td>1028.79</td>\n",
       "      <td>0.00</td>\n",
       "      <td>0.0</td>\n",
       "    </tr>\n",
       "    <tr>\n",
       "      <th>28</th>\n",
       "      <td>76.69</td>\n",
       "      <td>50.73</td>\n",
       "      <td>0.00</td>\n",
       "      <td>0.0</td>\n",
       "    </tr>\n",
       "    <tr>\n",
       "      <th>36</th>\n",
       "      <td>696.53</td>\n",
       "      <td>83.41</td>\n",
       "      <td>0.00</td>\n",
       "      <td>0.0</td>\n",
       "    </tr>\n",
       "  </tbody>\n",
       "</table>\n",
       "</div>"
      ],
      "text/plain": [
       "    total_ic_mou_7  total_og_mou_7  vol_2g_mb_7  vol_3g_mb_7\n",
       "3           216.61          135.31         0.00          0.0\n",
       "19          114.39           48.66       445.26        212.1\n",
       "21          131.89         1028.79         0.00          0.0\n",
       "28           76.69           50.73         0.00          0.0\n",
       "36          696.53           83.41         0.00          0.0"
      ]
     },
     "execution_count": 48,
     "metadata": {},
     "output_type": "execute_result"
    }
   ],
   "source": [
    "df_7.head()"
   ]
  },
  {
   "cell_type": "code",
   "execution_count": 49,
   "metadata": {},
   "outputs": [
    {
     "data": {
      "text/html": [
       "<div>\n",
       "<style scoped>\n",
       "    .dataframe tbody tr th:only-of-type {\n",
       "        vertical-align: middle;\n",
       "    }\n",
       "\n",
       "    .dataframe tbody tr th {\n",
       "        vertical-align: top;\n",
       "    }\n",
       "\n",
       "    .dataframe thead th {\n",
       "        text-align: right;\n",
       "    }\n",
       "</style>\n",
       "<table border=\"1\" class=\"dataframe\">\n",
       "  <thead>\n",
       "    <tr style=\"text-align: right;\">\n",
       "      <th></th>\n",
       "      <th>total_ic_mou_8</th>\n",
       "      <th>total_og_mou_8</th>\n",
       "      <th>vol_2g_mb_8</th>\n",
       "      <th>vol_3g_mb_8</th>\n",
       "    </tr>\n",
       "  </thead>\n",
       "  <tbody>\n",
       "    <tr>\n",
       "      <th>3</th>\n",
       "      <td>53.13</td>\n",
       "      <td>352.21</td>\n",
       "      <td>0.00</td>\n",
       "      <td>0.00</td>\n",
       "    </tr>\n",
       "    <tr>\n",
       "      <th>19</th>\n",
       "      <td>86.98</td>\n",
       "      <td>23.08</td>\n",
       "      <td>235.52</td>\n",
       "      <td>335.99</td>\n",
       "    </tr>\n",
       "    <tr>\n",
       "      <th>21</th>\n",
       "      <td>261.04</td>\n",
       "      <td>1068.54</td>\n",
       "      <td>0.00</td>\n",
       "      <td>0.00</td>\n",
       "    </tr>\n",
       "    <tr>\n",
       "      <th>28</th>\n",
       "      <td>329.98</td>\n",
       "      <td>83.43</td>\n",
       "      <td>6.71</td>\n",
       "      <td>145.15</td>\n",
       "    </tr>\n",
       "    <tr>\n",
       "      <th>36</th>\n",
       "      <td>781.53</td>\n",
       "      <td>415.43</td>\n",
       "      <td>0.00</td>\n",
       "      <td>0.00</td>\n",
       "    </tr>\n",
       "  </tbody>\n",
       "</table>\n",
       "</div>"
      ],
      "text/plain": [
       "    total_ic_mou_8  total_og_mou_8  vol_2g_mb_8  vol_3g_mb_8\n",
       "3            53.13          352.21         0.00         0.00\n",
       "19           86.98           23.08       235.52       335.99\n",
       "21          261.04         1068.54         0.00         0.00\n",
       "28          329.98           83.43         6.71       145.15\n",
       "36          781.53          415.43         0.00         0.00"
      ]
     },
     "execution_count": 49,
     "metadata": {},
     "output_type": "execute_result"
    }
   ],
   "source": [
    "df_8.head()"
   ]
  },
  {
   "cell_type": "code",
   "execution_count": 50,
   "metadata": {},
   "outputs": [
    {
     "data": {
      "text/html": [
       "<div>\n",
       "<style scoped>\n",
       "    .dataframe tbody tr th:only-of-type {\n",
       "        vertical-align: middle;\n",
       "    }\n",
       "\n",
       "    .dataframe tbody tr th {\n",
       "        vertical-align: top;\n",
       "    }\n",
       "\n",
       "    .dataframe thead th {\n",
       "        text-align: right;\n",
       "    }\n",
       "</style>\n",
       "<table border=\"1\" class=\"dataframe\">\n",
       "  <thead>\n",
       "    <tr style=\"text-align: right;\">\n",
       "      <th></th>\n",
       "      <th>total_ic_mou_9</th>\n",
       "      <th>total_og_mou_9</th>\n",
       "      <th>vol_2g_mb_9</th>\n",
       "      <th>vol_3g_mb_9</th>\n",
       "    </tr>\n",
       "  </thead>\n",
       "  <tbody>\n",
       "    <tr>\n",
       "      <th>3</th>\n",
       "      <td>305.38</td>\n",
       "      <td>362.54</td>\n",
       "      <td>0.0</td>\n",
       "      <td>0.0</td>\n",
       "    </tr>\n",
       "    <tr>\n",
       "      <th>19</th>\n",
       "      <td>50.38</td>\n",
       "      <td>25.31</td>\n",
       "      <td>0.0</td>\n",
       "      <td>0.0</td>\n",
       "    </tr>\n",
       "    <tr>\n",
       "      <th>21</th>\n",
       "      <td>252.61</td>\n",
       "      <td>1031.53</td>\n",
       "      <td>0.0</td>\n",
       "      <td>0.0</td>\n",
       "    </tr>\n",
       "    <tr>\n",
       "      <th>28</th>\n",
       "      <td>104.39</td>\n",
       "      <td>41.34</td>\n",
       "      <td>0.0</td>\n",
       "      <td>0.0</td>\n",
       "    </tr>\n",
       "    <tr>\n",
       "      <th>36</th>\n",
       "      <td>589.89</td>\n",
       "      <td>344.08</td>\n",
       "      <td>0.0</td>\n",
       "      <td>0.0</td>\n",
       "    </tr>\n",
       "  </tbody>\n",
       "</table>\n",
       "</div>"
      ],
      "text/plain": [
       "    total_ic_mou_9  total_og_mou_9  vol_2g_mb_9  vol_3g_mb_9\n",
       "3           305.38          362.54          0.0          0.0\n",
       "19           50.38           25.31          0.0          0.0\n",
       "21          252.61         1031.53          0.0          0.0\n",
       "28          104.39           41.34          0.0          0.0\n",
       "36          589.89          344.08          0.0          0.0"
      ]
     },
     "execution_count": 50,
     "metadata": {},
     "output_type": "execute_result"
    }
   ],
   "source": [
    "df_9.head()"
   ]
  },
  {
   "cell_type": "code",
   "execution_count": 51,
   "metadata": {},
   "outputs": [],
   "source": [
    "# attch the dfs with churn\n",
    "df_6['churn'] = new_phase['churn']\n",
    "df_7['churn'] = new_phase['churn']\n",
    "df_8['churn'] = new_phase['churn']\n",
    "df_9['churn'] = new_phase['churn']"
   ]
  },
  {
   "cell_type": "code",
   "execution_count": 52,
   "metadata": {},
   "outputs": [
    {
     "name": "stdout",
     "output_type": "stream",
     "text": [
      "       total_ic_mou_6  total_og_mou_6   vol_2g_mb_6   vol_3g_mb_6  \\\n",
      "count    10695.000000    10695.000000  10695.000000  10695.000000   \n",
      "mean       221.691814      312.475732     55.007311    117.462061   \n",
      "std        296.790070      393.426445    224.793625    515.606837   \n",
      "min          0.000000        0.000000      0.000000      0.000000   \n",
      "25%         55.735000       85.040000      0.000000      0.000000   \n",
      "50%        135.840000      186.080000      0.000000      0.000000   \n",
      "75%        280.200000      390.945000      0.000000      0.000000   \n",
      "max       7074.590000     7329.110000   7213.060000  20304.270000   \n",
      "\n",
      "              churn  \n",
      "count  10695.000000  \n",
      "mean       0.181487  \n",
      "std        0.385439  \n",
      "min        0.000000  \n",
      "25%        0.000000  \n",
      "50%        0.000000  \n",
      "75%        0.000000  \n",
      "max        1.000000  \n",
      "       total_ic_mou_7  total_og_mou_7   vol_2g_mb_7   vol_3g_mb_7  \\\n",
      "count    10695.000000    10695.000000  10695.000000  10695.000000   \n",
      "mean       260.801575      463.128891     66.032562    167.542592   \n",
      "std        320.482873      537.960257    244.426300    586.124351   \n",
      "min          0.000000        0.000000      0.000000      0.000000   \n",
      "25%         81.770000      133.900000      0.000000      0.000000   \n",
      "50%        167.880000      284.410000      0.000000      0.000000   \n",
      "75%        322.060000      598.875000      4.950000      0.000000   \n",
      "max       5326.860000    11365.310000   7873.550000  18312.400000   \n",
      "\n",
      "              churn  \n",
      "count  10695.000000  \n",
      "mean       0.181487  \n",
      "std        0.385439  \n",
      "min        0.000000  \n",
      "25%        0.000000  \n",
      "50%        0.000000  \n",
      "75%        0.000000  \n",
      "max        1.000000  \n",
      "       total_ic_mou_8  total_og_mou_8   vol_2g_mb_8   vol_3g_mb_8  \\\n",
      "count    10695.000000    10695.000000  10695.000000  10695.000000   \n",
      "mean       286.761331      585.095098     79.303573    234.038515   \n",
      "std        339.512839      695.031113    291.375816    758.922633   \n",
      "min          0.000000        0.000000      0.000000      0.000000   \n",
      "25%         94.250000      169.925000      0.000000      0.000000   \n",
      "50%        187.280000      357.110000      0.000000      0.000000   \n",
      "75%        353.610000      746.955000     14.230000      0.000000   \n",
      "max       5775.860000    14043.060000  11117.610000  14633.040000   \n",
      "\n",
      "              churn  \n",
      "count  10695.000000  \n",
      "mean       0.181487  \n",
      "std        0.385439  \n",
      "min        0.000000  \n",
      "25%        0.000000  \n",
      "50%        0.000000  \n",
      "75%        0.000000  \n",
      "max        1.000000  \n",
      "       total_ic_mou_9  total_og_mou_9   vol_2g_mb_9   vol_3g_mb_9  \\\n",
      "count    10695.000000    10695.000000  10695.000000  10695.000000   \n",
      "mean       263.572228      497.493581     68.235953    212.926180   \n",
      "std        331.984365      642.052049    273.453522    720.384219   \n",
      "min          0.000000        0.000000      0.000000      0.000000   \n",
      "25%         80.060000      128.655000      0.000000      0.000000   \n",
      "50%        167.760000      287.910000      0.000000      0.000000   \n",
      "75%        326.200000      627.465000      5.245000      0.000000   \n",
      "max       5059.480000    11517.730000   8993.950000  18627.510000   \n",
      "\n",
      "              churn  \n",
      "count  10695.000000  \n",
      "mean       0.181487  \n",
      "std        0.385439  \n",
      "min        0.000000  \n",
      "25%        0.000000  \n",
      "50%        0.000000  \n",
      "75%        0.000000  \n",
      "max        1.000000  \n"
     ]
    }
   ],
   "source": [
    "dfs = [df_6, df_7, df_8, df_9]\n",
    "\n",
    "for i in dfs:\n",
    "    print(i.describe())"
   ]
  },
  {
   "cell_type": "markdown",
   "metadata": {},
   "source": [
    "### Highest Churn month"
   ]
  },
  {
   "cell_type": "code",
   "execution_count": 61,
   "metadata": {},
   "outputs": [],
   "source": [
    "# drop dates\n",
    "new_phase.drop(['last_date_of_month_6', 'last_date_of_month_7', 'last_date_of_month_8', 'last_date_of_month_9'], axis=1, inplace=True)"
   ]
  },
  {
   "cell_type": "markdown",
   "metadata": {},
   "source": [
    "4. Train a variety of models, tune model hyperparameters, etc. (handle class imbalance\n",
    "using appropriate techniques)."
   ]
  },
  {
   "cell_type": "code",
   "execution_count": 62,
   "metadata": {},
   "outputs": [],
   "source": [
    "# sklearn\n",
    "from sklearn.model_selection import train_test_split\n",
    "from sklearn.preprocessing import StandardScaler\n",
    "from sklearn.metrics import accuracy_score, confusion_matrix, classification_report\n",
    "from sklearn.linear_model import LogisticRegression\n",
    "from sklearn.ensemble import RandomForestClassifier\n",
    "from sklearn.model_selection import GridSearchCV\n",
    "\n",
    "# split the data\n",
    "X = new_phase.drop(['churn'], axis=1)\n",
    "y = new_phase['churn']\n",
    " \n",
    "X_train, X_test, y_train, y_test = train_test_split(X, y, test_size=0.3, random_state=42)\n",
    "\n",
    "# scale the data\n",
    "scaler = StandardScaler()\n",
    "X_train = scaler.fit_transform(X_train)\n",
    "X_test = scaler.transform(X_test)"
   ]
  },
  {
   "cell_type": "markdown",
   "metadata": {},
   "source": [
    "5. Evaluate the models using appropriate evaluation metrics. Note that it is more\n",
    "important to identify churners than the non-churners accurately - choose an\n",
    "appropriate evaluation metric which reflects this business goal."
   ]
  },
  {
   "cell_type": "code",
   "execution_count": 64,
   "metadata": {},
   "outputs": [
    {
     "name": "stdout",
     "output_type": "stream",
     "text": [
      "Accuracy:  0.992832658148956\n",
      "Confusion matrix:  [[2619    9]\n",
      " [  14  567]]\n",
      "Classification report:                precision    recall  f1-score   support\n",
      "\n",
      "           0       0.99      1.00      1.00      2628\n",
      "           1       0.98      0.98      0.98       581\n",
      "\n",
      "    accuracy                           0.99      3209\n",
      "   macro avg       0.99      0.99      0.99      3209\n",
      "weighted avg       0.99      0.99      0.99      3209\n",
      "\n",
      "Accuracy:  1.0\n",
      "Confusion matrix:  [[2628    0]\n",
      " [   0  581]]\n",
      "Classification report:                precision    recall  f1-score   support\n",
      "\n",
      "           0       1.00      1.00      1.00      2628\n",
      "           1       1.00      1.00      1.00       581\n",
      "\n",
      "    accuracy                           1.00      3209\n",
      "   macro avg       1.00      1.00      1.00      3209\n",
      "weighted avg       1.00      1.00      1.00      3209\n",
      "\n"
     ]
    }
   ],
   "source": [
    "# logistic regression\n",
    "logreg = LogisticRegression()\n",
    "logreg.fit(X_train, y_train)\n",
    "y_pred = logreg.predict(X_test)\n",
    "print('Accuracy: ', accuracy_score(y_test, y_pred))\n",
    "print('Confusion matrix: ', confusion_matrix(y_test, y_pred))\n",
    "print('Classification report: ', classification_report(y_test, y_pred))\n",
    "\n",
    "# random forest\n",
    "rf = RandomForestClassifier()\n",
    "rf.fit(X_train, y_train)\n",
    "y_pred = rf.predict(X_test)\n",
    "print('Accuracy: ', accuracy_score(y_test, y_pred))\n",
    "print('Confusion matrix: ', confusion_matrix(y_test, y_pred))\n",
    "print('Classification report: ', classification_report(y_test, y_pred))"
   ]
  },
  {
   "cell_type": "markdown",
   "metadata": {},
   "source": [
    "6. Finally, choose a model based on some evaluation metric.\n",
    "Therefore, build another model with the main objective of identifying important predictor\n",
    "attributes which help the business understand indicators of churn. A good choice to identify\n",
    "important variables is a logistic regression model or a model from the tree family. In the\n",
    "Navigate Q&A"
   ]
  },
  {
   "cell_type": "code",
   "execution_count": 65,
   "metadata": {},
   "outputs": [
    {
     "data": {
      "image/png": "[encoded data removed]",
      "text/plain": [
       "<Figure size 1000x800 with 1 Axes>"
      ]
     },
     "metadata": {},
     "output_type": "display_data"
    },
    {
     "name": "stdout",
     "output_type": "stream",
     "text": [
      "Accuracy:  1.0\n",
      "Confusion matrix:  [[2628    0]\n",
      " [   0  581]]\n",
      "Classification report:                precision    recall  f1-score   support\n",
      "\n",
      "           0       1.00      1.00      1.00      2628\n",
      "           1       1.00      1.00      1.00       581\n",
      "\n",
      "    accuracy                           1.00      3209\n",
      "   macro avg       1.00      1.00      1.00      3209\n",
      "weighted avg       1.00      1.00      1.00      3209\n",
      "\n"
     ]
    }
   ],
   "source": [
    "# random forest\n",
    "rf = RandomForestClassifier(n_estimators=500, max_depth=30)\n",
    "rf.fit(X_train, y_train)\n",
    "\n",
    "# feature importance\n",
    "feature_importance = pd.DataFrame({'feature': X.columns, 'importance': rf.feature_importances_})\n",
    "feature_importance.sort_values(by='importance', ascending=False, inplace=True)\n",
    "feature_importance.head(10)\n",
    "\n",
    "# plot the feature importance\n",
    "plt.figure(figsize=(10,8))\n",
    "sns.barplot(x='importance', y='feature', data=feature_importance.head(10))\n",
    "plt.show()\n",
    "\n",
    "\n",
    "# predict the churn\n",
    "y_pred = rf.predict(X_test)\n",
    "print('Accuracy: ', accuracy_score(y_test, y_pred))\n",
    "print('Confusion matrix: ', confusion_matrix(y_test, y_pred))\n",
    "print('Classification report: ', classification_report(y_test, y_pred))"
   ]
  }
 ],
 "metadata": {
  "kernelspec": {
   "display_name": "Python 3.7.7 64-bit",
   "language": "python",
   "name": "python3"
  },
  "language_info": {
   "codemirror_mode": {
    "name": "ipython",
    "version": 3
   },
   "file_extension": ".py",
   "mimetype": "text/x-python",
   "name": "python",
   "nbconvert_exporter": "python",
   "pygments_lexer": "ipython3",
   "version": "3.7.7"
  },
  "orig_nbformat": 4,
  "vscode": {
   "interpreter": {
    "hash": "7735307a7b5a3c16fdcad706d4a822e2a128f734d94907b9b69ff76019723c76"
   }
  }
 },
 "nbformat": 4,
 "nbformat_minor": 2
}
